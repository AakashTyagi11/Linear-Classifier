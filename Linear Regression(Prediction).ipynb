{
 "cells": [
  {
   "cell_type": "code",
   "execution_count": 2,
   "metadata": {},
   "outputs": [],
   "source": [
    "import numpy as np\n",
    "import matplotlib.pyplot as plt\n",
    "import pandas as pd\n"
   ]
  },
  {
   "cell_type": "code",
   "execution_count": 4,
   "metadata": {},
   "outputs": [
    {
     "data": {
      "text/html": [
       "<div>\n",
       "<style scoped>\n",
       "    .dataframe tbody tr th:only-of-type {\n",
       "        vertical-align: middle;\n",
       "    }\n",
       "\n",
       "    .dataframe tbody tr th {\n",
       "        vertical-align: top;\n",
       "    }\n",
       "\n",
       "    .dataframe thead th {\n",
       "        text-align: right;\n",
       "    }\n",
       "</style>\n",
       "<table border=\"1\" class=\"dataframe\">\n",
       "  <thead>\n",
       "    <tr style=\"text-align: right;\">\n",
       "      <th></th>\n",
       "      <th>Exam 1</th>\n",
       "      <th>Exam 2</th>\n",
       "      <th>Admitted</th>\n",
       "    </tr>\n",
       "  </thead>\n",
       "  <tbody>\n",
       "    <tr>\n",
       "      <th>0</th>\n",
       "      <td>70</td>\n",
       "      <td>1.0</td>\n",
       "      <td>50</td>\n",
       "    </tr>\n",
       "    <tr>\n",
       "      <th>1</th>\n",
       "      <td>80</td>\n",
       "      <td>2.0</td>\n",
       "      <td>55</td>\n",
       "    </tr>\n",
       "    <tr>\n",
       "      <th>2</th>\n",
       "      <td>65</td>\n",
       "      <td>2.0</td>\n",
       "      <td>45</td>\n",
       "    </tr>\n",
       "    <tr>\n",
       "      <th>3</th>\n",
       "      <td>70</td>\n",
       "      <td>2.5</td>\n",
       "      <td>60</td>\n",
       "    </tr>\n",
       "    <tr>\n",
       "      <th>4</th>\n",
       "      <td>65</td>\n",
       "      <td>2.7</td>\n",
       "      <td>58</td>\n",
       "    </tr>\n",
       "  </tbody>\n",
       "</table>\n",
       "</div>"
      ],
      "text/plain": [
       "   Exam 1  Exam 2  Admitted\n",
       "0      70     1.0        50\n",
       "1      80     2.0        55\n",
       "2      65     2.0        45\n",
       "3      70     2.5        60\n",
       "4      65     2.7        58"
      ]
     },
     "execution_count": 4,
     "metadata": {},
     "output_type": "execute_result"
    }
   ],
   "source": [
    "data = pd.read_csv('regdata.csv', header=None, names=['Exam 1', 'Exam 2', 'Admitted'])\n",
    "data.head()"
   ]
  },
  {
   "cell_type": "code",
   "execution_count": 18,
   "metadata": {},
   "outputs": [
    {
     "name": "stdout",
     "output_type": "stream",
     "text": [
      "[[1.      0.3125  0.     ]\n",
      " [1.      0.625   0.125  ]\n",
      " [1.      0.15625 0.125  ]\n",
      " [1.      0.3125  0.1875 ]\n",
      " [1.      0.15625 0.2125 ]\n",
      " [1.      0.625   0.25   ]\n",
      " [1.      0.9375  0.25   ]\n",
      " [1.      1.      0.275  ]\n",
      " [1.      0.      0.3125 ]\n",
      " [1.      0.3125  0.3375 ]\n",
      " [1.      0.5     0.375  ]\n",
      " [1.      0.78125 0.4375 ]\n",
      " [1.      0.625   0.5    ]\n",
      " [1.      0.      0.5625 ]\n",
      " [1.      0.125   0.6    ]\n",
      " [1.      0.      0.625  ]\n",
      " [1.      0.84375 0.625  ]\n",
      " [1.      0.9375  0.6875 ]\n",
      " [1.      0.46875 0.75   ]\n",
      " [1.      0.625   0.75   ]\n",
      " [1.      0.46875 0.8125 ]\n",
      " [1.      0.3125  0.875  ]\n",
      " [1.      0.625   0.9375 ]\n",
      " [1.      0.9375  0.9625 ]\n",
      " [1.      0.78125 1.     ]]\n",
      "[[50 55 45 60 58 60 65 67 55 60 65 70 78 75 78 70 80 82 75 85 80 82 85 90\n",
      "  85]]\n"
     ]
    }
   ],
   "source": [
    "def prepare(data):\n",
    "    X = data.iloc[:,0:-1].values\n",
    "\n",
    "    # we normalize X\n",
    "    maxX = np.max(X, axis=0)\n",
    "    minX = np.min(X, axis=0)\n",
    "    X = (X-minX)/(maxX-minX)\n",
    "\n",
    "    # we insert an all-ones column at index 0\n",
    "    X = np.insert(X, 0, 1, axis=1)\n",
    "\n",
    "    y = data.iloc[:,-1:].values.T\n",
    "\n",
    "    where_are_zeros = (y==0)\n",
    "    y[where_are_zeros] = -1\n",
    "    \n",
    "    return X,y\n",
    "\n",
    "\n",
    "X,y = prepare(data)\n",
    "print(X)\n",
    "print(y)"
   ]
  },
  {
   "cell_type": "code",
   "execution_count": 19,
   "metadata": {},
   "outputs": [
    {
     "name": "stdout",
     "output_type": "stream",
     "text": [
      "[[47.37669399  7.9981353  37.44432694]]\n"
     ]
    },
    {
     "data": {
      "image/png": "[encoded data removed]",
      "text/plain": [
       "<Figure size 432x288 with 1 Axes>"
      ]
     },
     "metadata": {
      "needs_background": "light"
     },
     "output_type": "display_data"
    }
   ],
   "source": [
    "def fit(X,y,kappa,iter):\n",
    "    \n",
    "    w = np.zeros((1,X.shape[1]))\n",
    "    E = []  \n",
    "    n=X.shape[0]\n",
    "    for num in range(iter):\n",
    "        l =(1/( 2*n))*(np.sum((y-w@X.T)**2))\n",
    "        E.append(l)\n",
    "        w=w+kappa*((1/n)*(np.sum((y-w@X.T).T*X,axis=0,keepdims=True)))\n",
    "        \n",
    "        \n",
    "    return w,E\n",
    "\n",
    "        \n",
    "w,E = fit(X,y,1,100)\n",
    "\n",
    "print(w)\n",
    "plt.plot(E)\n",
    "plt.show()"
   ]
  }
 ],
 "metadata": {
  "kernelspec": {
   "display_name": "Python 3",
   "language": "python",
   "name": "python3"
  },
  "language_info": {
   "codemirror_mode": {
    "name": "ipython",
    "version": 3
   },
   "file_extension": ".py",
   "mimetype": "text/x-python",
   "name": "python",
   "nbconvert_exporter": "python",
   "pygments_lexer": "ipython3",
   "version": "3.7.0"
  }
 },
 "nbformat": 4,
 "nbformat_minor": 2
}
